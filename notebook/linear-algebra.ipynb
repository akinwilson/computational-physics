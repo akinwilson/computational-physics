{
 "cells": [
  {
   "cell_type": "code",
   "execution_count": null,
   "metadata": {},
   "outputs": [],
   "source": [
    "import numpy as np \n",
    "import matplotlib.pyplot as plt \n",
    "from mpl_toolkits.mplot3d import Axes3D"
   ]
  },
  {
   "cell_type": "code",
   "execution_count": null,
   "metadata": {},
   "outputs": [],
   "source": [
    "A = np.matrix(\n",
    "    [[1,2,3],\n",
    "    [4,5,6]]\n",
    ")\n",
    "O = np.matrix(\n",
    "    [[0],\n",
    "    [0],\n",
    "    [0]]\n",
    ")\n",
    "import matplotlib\n",
    "print(matplotlib.__version__)\n",
    "A[0,:]"
   ]
  },
  {
   "cell_type": "markdown",
   "metadata": {},
   "source": [
    "# **4 key subspaces in linear algebra** "
   ]
  },
  {
   "cell_type": "code",
   "execution_count": null,
   "metadata": {},
   "outputs": [],
   "source": [
    "fig = plt.figure()\n",
    "ax = fig.add_subplot(projection='3d')\n",
    "axis_range = np.arange(-0.8, 1, 0.2)\n",
    "x, y, z = np.meshgrid(axis_range,axis_range,axis_range)\n",
    "ax.quiver(x, y, z, A[:,0], A[:,1],A[:,2], length=0.1, normalize=True)\n"
   ]
  },
  {
   "cell_type": "code",
   "execution_count": 1,
   "metadata": {},
   "outputs": [
    {
     "ename": "ModuleNotFoundError",
     "evalue": "No module named 'mayavi'",
     "output_type": "error",
     "traceback": [
      "\u001b[0;31m---------------------------------------------------------------------------\u001b[0m",
      "\u001b[0;31mModuleNotFoundError\u001b[0m                       Traceback (most recent call last)",
      "\u001b[1;32m/home/akinwilson/Code/comp-phys/notebook/linear-algebra.ipynb Cell 5\u001b[0m in \u001b[0;36m<cell line: 17>\u001b[0;34m()\u001b[0m\n\u001b[1;32m      <a href='vscode-notebook-cell:/home/akinwilson/Code/comp-phys/notebook/linear-algebra.ipynb#W2sZmlsZQ%3D%3D?line=4'>5</a>\u001b[0m \u001b[39m# p0 = [0.799319, -3.477045e-01, 0.490093]\u001b[39;00m\n\u001b[1;32m      <a href='vscode-notebook-cell:/home/akinwilson/Code/comp-phys/notebook/linear-algebra.ipynb#W2sZmlsZQ%3D%3D?line=5'>6</a>\u001b[0m \u001b[39m# p1 = [0.852512, 9.113778e-16, -0.522708]\u001b[39;00m\n\u001b[1;32m      <a href='vscode-notebook-cell:/home/akinwilson/Code/comp-phys/notebook/linear-algebra.ipynb#W2sZmlsZQ%3D%3D?line=6'>7</a>\u001b[0m \u001b[39m# p2 = [0.296422, 9.376042e-01, 0.181748]\u001b[39;00m\n\u001b[0;32m   (...)\u001b[0m\n\u001b[1;32m     <a href='vscode-notebook-cell:/home/akinwilson/Code/comp-phys/notebook/linear-algebra.ipynb#W2sZmlsZQ%3D%3D?line=13'>14</a>\u001b[0m \u001b[39m# ax = fig.add_subplot(111, projection='3d')\u001b[39;00m\n\u001b[1;32m     <a href='vscode-notebook-cell:/home/akinwilson/Code/comp-phys/notebook/linear-algebra.ipynb#W2sZmlsZQ%3D%3D?line=14'>15</a>\u001b[0m \u001b[39m# ax.quiver(X,Y,Z,U,V,W,arrow_length_ratio=0.01)\u001b[39;00m\n\u001b[1;32m     <a href='vscode-notebook-cell:/home/akinwilson/Code/comp-phys/notebook/linear-algebra.ipynb#W2sZmlsZQ%3D%3D?line=15'>16</a>\u001b[0m \u001b[39mimport\u001b[39;00m \u001b[39mnumpy\u001b[39;00m \u001b[39mas\u001b[39;00m \u001b[39mnp\u001b[39;00m\n\u001b[0;32m---> <a href='vscode-notebook-cell:/home/akinwilson/Code/comp-phys/notebook/linear-algebra.ipynb#W2sZmlsZQ%3D%3D?line=16'>17</a>\u001b[0m \u001b[39mimport\u001b[39;00m \u001b[39mmayavi\u001b[39;00m\u001b[39m.\u001b[39;00m\u001b[39mmlab\u001b[39;00m \u001b[39mas\u001b[39;00m \u001b[39mm\u001b[39;00m\n\u001b[1;32m     <a href='vscode-notebook-cell:/home/akinwilson/Code/comp-phys/notebook/linear-algebra.ipynb#W2sZmlsZQ%3D%3D?line=18'>19</a>\u001b[0m p0 \u001b[39m=\u001b[39m [\u001b[39m0.799319\u001b[39m, \u001b[39m-\u001b[39m\u001b[39m3.477045e-01\u001b[39m, \u001b[39m0.490093\u001b[39m]\n\u001b[1;32m     <a href='vscode-notebook-cell:/home/akinwilson/Code/comp-phys/notebook/linear-algebra.ipynb#W2sZmlsZQ%3D%3D?line=19'>20</a>\u001b[0m p1 \u001b[39m=\u001b[39m [\u001b[39m0.852512\u001b[39m, \u001b[39m9.113778e-16\u001b[39m, \u001b[39m-\u001b[39m\u001b[39m0.522708\u001b[39m]\n",
      "\u001b[0;31mModuleNotFoundError\u001b[0m: No module named 'mayavi'"
     ]
    }
   ],
   "source": [
    "import numpy as np\n",
    "import matplotlib.pyplot as plt\n",
    "from mpl_toolkits.mplot3d import Axes3D\n",
    "\n",
    "# p0 = [0.799319, -3.477045e-01, 0.490093]\n",
    "# p1 = [0.852512, 9.113778e-16, -0.522708]\n",
    "# p2 = [0.296422, 9.376042e-01, 0.181748]\n",
    "\n",
    "# origin = [0,0,0]\n",
    "# X, Y, Z = zip(origin,origin,origin) \n",
    "# U, V, W = zip(p0,p1,p2)\n",
    "\n",
    "# fig = plt.figure(figsize=(10,10))\n",
    "# ax = fig.add_subplot(111, projection='3d')\n",
    "# ax.quiver(X,Y,Z,U,V,W,arrow_length_ratio=0.01)\n",
    "import numpy as np\n",
    "import mayavi.mlab as m\n",
    "\n",
    "p0 = [0.799319, -3.477045e-01, 0.490093]\n",
    "p1 = [0.852512, 9.113778e-16, -0.522708]\n",
    "p2 = [0.296422, 9.376042e-01, 0.181748]\n",
    "\n",
    "origin = [0,0,0]\n",
    "X, Y, Z = zip(origin,origin,origin) \n",
    "U, V, W = zip(p0,p1,p2)\n",
    "\n",
    "m.quiver3d(X,Y,Z,U,V,W)"
   ]
  }
 ],
 "metadata": {
  "kernelspec": {
   "display_name": "Python 3.10.4 64-bit",
   "language": "python",
   "name": "python3"
  },
  "language_info": {
   "codemirror_mode": {
    "name": "ipython",
    "version": 3
   },
   "file_extension": ".py",
   "mimetype": "text/x-python",
   "name": "python",
   "nbconvert_exporter": "python",
   "pygments_lexer": "ipython3",
   "version": "3.10.4"
  },
  "orig_nbformat": 4,
  "vscode": {
   "interpreter": {
    "hash": "916dbcbb3f70747c44a77c7bcd40155683ae19c65e1c03b4aa3499c5328201f1"
   }
  }
 },
 "nbformat": 4,
 "nbformat_minor": 2
}
